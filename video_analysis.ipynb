{
 "cells": [
  {
   "cell_type": "code",
   "execution_count": null,
   "metadata": {},
   "outputs": [],
   "source": [
    "from deepface import DeepFace\n",
    "obj = DeepFace.analyze(img_path = \"img4.jpg\", actions = ['age', 'gender', 'race', 'emotion'])\n",
    "print(obj[\"age\"],\" years old \",obj[\"dominant_race\"],\" \",obj[\"dominant_emotion\"],\" \", obj[\"gender\"])"
   ]
  },
  {
   "cell_type": "code",
   "execution_count": 1,
   "metadata": {},
   "outputs": [
    {
     "data": {
      "text/plain": [
       "['input_video/2.mp4', 'input_video/1.mp4']"
      ]
     },
     "execution_count": 1,
     "metadata": {},
     "output_type": "execute_result"
    }
   ],
   "source": [
    "import glob\n",
    "video_files=glob.glob(\"input_video/*.mp4\")\n",
    "video_files"
   ]
  },
  {
   "cell_type": "code",
   "execution_count": 11,
   "metadata": {},
   "outputs": [
    {
     "name": "stderr",
     "output_type": "stream",
     "text": [
      "\n",
      "Finding actions:   0%|          | 0/4 [00:00<?, ?it/s]\u001b[A\n",
      "Action: age:   0%|          | 0/4 [00:00<?, ?it/s]    \u001b[A"
     ]
    },
    {
     "name": "stdout",
     "output_type": "stream",
     "text": [
      "input_video/2.mp4\n"
     ]
    },
    {
     "name": "stderr",
     "output_type": "stream",
     "text": [
      "\n",
      "Action: age:  25%|██▌       | 1/4 [00:00<00:02,  1.24it/s]\u001b[A\n",
      "Action: gender:  25%|██▌       | 1/4 [00:00<00:02,  1.24it/s]\u001b[A\n",
      "Action: gender:  50%|█████     | 2/4 [00:00<00:01,  1.63it/s]\u001b[A\n",
      "Action: race:  50%|█████     | 2/4 [00:00<00:01,  1.63it/s]  \u001b[A\n",
      "Action: race:  75%|███████▌  | 3/4 [00:01<00:00,  2.11it/s]\u001b[A\n",
      "Action: emotion:  75%|███████▌  | 3/4 [00:01<00:00,  2.11it/s]\u001b[A\n",
      "Action: emotion: 100%|██████████| 4/4 [00:01<00:00,  2.36it/s]\u001b[A\n",
      "\n",
      "Finding actions:   0%|          | 0/4 [00:00<?, ?it/s]\u001b[A\n",
      "Action: age:   0%|          | 0/4 [00:00<?, ?it/s]    \u001b[A"
     ]
    },
    {
     "name": "stdout",
     "output_type": "stream",
     "text": [
      "25  years old  white   fear   Man\n"
     ]
    },
    {
     "name": "stderr",
     "output_type": "stream",
     "text": [
      "\n",
      "Action: age:  25%|██▌       | 1/4 [00:00<00:02,  1.21it/s]\u001b[A\n",
      "Action: gender:  25%|██▌       | 1/4 [00:00<00:02,  1.21it/s]\u001b[A\n",
      "Action: gender:  50%|█████     | 2/4 [00:00<00:01,  1.60it/s]\u001b[A\n",
      "Action: race:  50%|█████     | 2/4 [00:00<00:01,  1.60it/s]  \u001b[A\n",
      "Action: race:  75%|███████▌  | 3/4 [00:01<00:00,  2.07it/s]\u001b[A\n",
      "Action: emotion:  75%|███████▌  | 3/4 [00:01<00:00,  2.07it/s]\u001b[A\n",
      "Action: emotion: 100%|██████████| 4/4 [00:01<00:00,  2.33it/s]\u001b[A\n",
      "\n",
      "Finding actions:   0%|          | 0/4 [00:00<?, ?it/s]\u001b[A\n",
      "Action: age:   0%|          | 0/4 [00:00<?, ?it/s]    \u001b[A"
     ]
    },
    {
     "name": "stdout",
     "output_type": "stream",
     "text": [
      "25  years old  white   fear   Man\n"
     ]
    },
    {
     "name": "stderr",
     "output_type": "stream",
     "text": [
      "\n",
      "Action: age:  25%|██▌       | 1/4 [00:00<00:02,  1.12it/s]\u001b[A\n",
      "Action: gender:  25%|██▌       | 1/4 [00:00<00:02,  1.12it/s]\u001b[A\n",
      "Action: gender:  50%|█████     | 2/4 [00:01<00:01,  1.48it/s]\u001b[A\n",
      "Action: race:  50%|█████     | 2/4 [00:01<00:01,  1.48it/s]  \u001b[A\n",
      "Action: race:  75%|███████▌  | 3/4 [00:01<00:00,  1.93it/s]\u001b[A\n",
      "Action: emotion:  75%|███████▌  | 3/4 [00:01<00:00,  1.93it/s]\u001b[A\n",
      "Action: emotion: 100%|██████████| 4/4 [00:01<00:00,  2.25it/s]\u001b[A\n",
      "\n",
      "Finding actions:   0%|          | 0/4 [00:00<?, ?it/s]\u001b[A\n",
      "Action: age:   0%|          | 0/4 [00:00<?, ?it/s]    \u001b[A"
     ]
    },
    {
     "name": "stdout",
     "output_type": "stream",
     "text": [
      "25  years old  white   fear   Man\n"
     ]
    },
    {
     "name": "stderr",
     "output_type": "stream",
     "text": [
      "\n",
      "Action: age:  25%|██▌       | 1/4 [00:00<00:02,  1.24it/s]\u001b[A\n",
      "Action: gender:  25%|██▌       | 1/4 [00:00<00:02,  1.24it/s]\u001b[A\n",
      "Action: gender:  50%|█████     | 2/4 [00:00<00:01,  1.64it/s]\u001b[A\n",
      "Action: race:  50%|█████     | 2/4 [00:00<00:01,  1.64it/s]  \u001b[A\n",
      "Action: race:  75%|███████▌  | 3/4 [00:01<00:00,  2.12it/s]\u001b[A\n",
      "Action: emotion:  75%|███████▌  | 3/4 [00:01<00:00,  2.12it/s]\u001b[A\n",
      "Action: emotion: 100%|██████████| 4/4 [00:01<00:00,  2.37it/s]\u001b[A\n",
      "\n",
      "Finding actions:   0%|          | 0/4 [00:00<?, ?it/s]\u001b[A\n",
      "Action: age:   0%|          | 0/4 [00:00<?, ?it/s]    \u001b[A"
     ]
    },
    {
     "name": "stdout",
     "output_type": "stream",
     "text": [
      "25  years old  white   fear   Man\n"
     ]
    },
    {
     "name": "stderr",
     "output_type": "stream",
     "text": [
      "\n",
      "Action: age:  25%|██▌       | 1/4 [00:00<00:02,  1.24it/s]\u001b[A\n",
      "Action: gender:  25%|██▌       | 1/4 [00:00<00:02,  1.24it/s]\u001b[A\n",
      "Action: gender:  50%|█████     | 2/4 [00:00<00:01,  1.64it/s]\u001b[A\n",
      "Action: race:  50%|█████     | 2/4 [00:00<00:01,  1.64it/s]  \u001b[A\n",
      "Action: race:  75%|███████▌  | 3/4 [00:01<00:00,  2.12it/s]\u001b[A\n",
      "Action: emotion:  75%|███████▌  | 3/4 [00:01<00:00,  2.12it/s]\u001b[A\n",
      "Action: emotion: 100%|██████████| 4/4 [00:01<00:00,  2.37it/s]\u001b[A\n"
     ]
    },
    {
     "name": "stdout",
     "output_type": "stream",
     "text": [
      "25  years old  white   fear   Man\n"
     ]
    },
    {
     "name": "stderr",
     "output_type": "stream",
     "text": [
      "\n",
      "Finding actions:   0%|          | 0/4 [00:00<?, ?it/s]\u001b[A\n",
      "Action: age:   0%|          | 0/4 [00:00<?, ?it/s]    \u001b[A\n",
      "Action: age:  25%|██▌       | 1/4 [00:00<00:02,  1.15it/s]\u001b[A\n",
      "Action: gender:  25%|██▌       | 1/4 [00:00<00:02,  1.15it/s]\u001b[A\n",
      "Action: gender:  50%|█████     | 2/4 [00:01<00:01,  1.50it/s]\u001b[A\n",
      "Action: race:  50%|█████     | 2/4 [00:01<00:01,  1.50it/s]  \u001b[A\n",
      "Action: race:  75%|███████▌  | 3/4 [00:01<00:00,  1.94it/s]\u001b[A\n",
      "Action: emotion:  75%|███████▌  | 3/4 [00:01<00:00,  1.94it/s]\u001b[A\n",
      "Action: emotion: 100%|██████████| 4/4 [00:01<00:00,  2.15it/s]\u001b[A\n",
      "\n",
      "Finding actions:   0%|          | 0/4 [00:00<?, ?it/s]\u001b[A\n",
      "Action: age:   0%|          | 0/4 [00:00<?, ?it/s]    \u001b[A"
     ]
    },
    {
     "name": "stdout",
     "output_type": "stream",
     "text": [
      "25  years old  white   fear   Man\n"
     ]
    },
    {
     "name": "stderr",
     "output_type": "stream",
     "text": [
      "\n",
      "Action: age:  25%|██▌       | 1/4 [00:00<00:02,  1.23it/s]\u001b[A\n",
      "Action: gender:  25%|██▌       | 1/4 [00:00<00:02,  1.23it/s]\u001b[A\n",
      "Action: gender:  50%|█████     | 2/4 [00:00<00:01,  1.62it/s]\u001b[A\n",
      "Action: race:  50%|█████     | 2/4 [00:00<00:01,  1.62it/s]  \u001b[A\n",
      "Action: race:  75%|███████▌  | 3/4 [00:01<00:00,  2.09it/s]\u001b[A\n",
      "Action: emotion:  75%|███████▌  | 3/4 [00:01<00:00,  2.09it/s]\u001b[A\n",
      "Action: emotion: 100%|██████████| 4/4 [00:01<00:00,  2.36it/s]\u001b[A\n",
      "\n",
      "Finding actions:   0%|          | 0/4 [00:00<?, ?it/s]\u001b[A\n",
      "Action: age:   0%|          | 0/4 [00:00<?, ?it/s]    \u001b[A"
     ]
    },
    {
     "name": "stdout",
     "output_type": "stream",
     "text": [
      "25  years old  white   fear   Man\n"
     ]
    },
    {
     "name": "stderr",
     "output_type": "stream",
     "text": [
      "\n",
      "Action: age:  25%|██▌       | 1/4 [00:00<00:02,  1.24it/s]\u001b[A\n",
      "Action: gender:  25%|██▌       | 1/4 [00:00<00:02,  1.24it/s]\u001b[A\n",
      "Action: gender:  50%|█████     | 2/4 [00:00<00:01,  1.64it/s]\u001b[A\n",
      "Action: race:  50%|█████     | 2/4 [00:00<00:01,  1.64it/s]  \u001b[A\n",
      "Action: race:  75%|███████▌  | 3/4 [00:01<00:00,  2.11it/s]\u001b[A\n",
      "Action: emotion:  75%|███████▌  | 3/4 [00:01<00:00,  2.11it/s]\u001b[A\n",
      "Action: emotion: 100%|██████████| 4/4 [00:01<00:00,  2.37it/s]\u001b[A\n",
      "\n",
      "Finding actions:   0%|          | 0/4 [00:00<?, ?it/s]\u001b[A\n",
      "Action: age:   0%|          | 0/4 [00:00<?, ?it/s]    \u001b[A"
     ]
    },
    {
     "name": "stdout",
     "output_type": "stream",
     "text": [
      "25  years old  white   fear   Man\n"
     ]
    },
    {
     "name": "stderr",
     "output_type": "stream",
     "text": [
      "\n",
      "Action: age:  25%|██▌       | 1/4 [00:00<00:02,  1.25it/s]\u001b[A\n",
      "Action: gender:  25%|██▌       | 1/4 [00:00<00:02,  1.25it/s]\u001b[A\n",
      "Action: gender:  50%|█████     | 2/4 [00:00<00:01,  1.66it/s]\u001b[A\n",
      "Action: race:  50%|█████     | 2/4 [00:00<00:01,  1.66it/s]  \u001b[A\n",
      "Action: race:  75%|███████▌  | 3/4 [00:01<00:00,  2.14it/s]\u001b[A\n",
      "Action: emotion:  75%|███████▌  | 3/4 [00:01<00:00,  2.14it/s]\u001b[A\n",
      "Action: emotion: 100%|██████████| 4/4 [00:01<00:00,  2.38it/s]\u001b[A\n",
      "\n",
      "Finding actions:   0%|          | 0/4 [00:00<?, ?it/s]\u001b[A\n",
      "Action: age:   0%|          | 0/4 [00:00<?, ?it/s]    \u001b[A"
     ]
    },
    {
     "name": "stdout",
     "output_type": "stream",
     "text": [
      "25  years old  white   fear   Man\n"
     ]
    },
    {
     "name": "stderr",
     "output_type": "stream",
     "text": [
      "\n",
      "Action: age:  25%|██▌       | 1/4 [00:00<00:02,  1.18it/s]\u001b[A\n",
      "Action: gender:  25%|██▌       | 1/4 [00:00<00:02,  1.18it/s]\u001b[A\n",
      "Action: gender:  50%|█████     | 2/4 [00:01<00:01,  1.57it/s]\u001b[A\n",
      "Action: race:  50%|█████     | 2/4 [00:01<00:01,  1.57it/s]  \u001b[A\n",
      "Action: race:  75%|███████▌  | 3/4 [00:01<00:00,  2.02it/s]\u001b[A\n",
      "Action: emotion:  75%|███████▌  | 3/4 [00:01<00:00,  2.02it/s]\u001b[A\n",
      "Action: emotion: 100%|██████████| 4/4 [00:01<00:00,  2.30it/s]\u001b[A\n",
      "\n",
      "Finding actions:   0%|          | 0/4 [00:00<?, ?it/s]\u001b[A\n",
      "Action: age:   0%|          | 0/4 [00:00<?, ?it/s]    \u001b[A"
     ]
    },
    {
     "name": "stdout",
     "output_type": "stream",
     "text": [
      "25  years old  white   fear   Man\n",
      "input_video/1.mp4\n"
     ]
    },
    {
     "name": "stderr",
     "output_type": "stream",
     "text": [
      "\n",
      "Action: age:  25%|██▌       | 1/4 [00:01<00:03,  1.07s/it]\u001b[A\n",
      "Action: gender:  25%|██▌       | 1/4 [00:01<00:03,  1.07s/it]\u001b[A\n",
      "Action: gender:  50%|█████     | 2/4 [00:01<00:01,  1.25it/s]\u001b[A\n",
      "Action: race:  50%|█████     | 2/4 [00:01<00:01,  1.25it/s]  \u001b[A\n",
      "Action: race:  75%|███████▌  | 3/4 [00:01<00:00,  1.66it/s]\u001b[A\n",
      "Action: emotion:  75%|███████▌  | 3/4 [00:01<00:00,  1.66it/s]\u001b[A\n",
      "Action: emotion: 100%|██████████| 4/4 [00:01<00:00,  2.04it/s]\u001b[A\n",
      "\n",
      "Finding actions:   0%|          | 0/4 [00:00<?, ?it/s]\u001b[A\n",
      "Action: age:   0%|          | 0/4 [00:00<?, ?it/s]    \u001b[A"
     ]
    },
    {
     "name": "stdout",
     "output_type": "stream",
     "text": [
      "25  years old  white   happy   Man\n"
     ]
    },
    {
     "name": "stderr",
     "output_type": "stream",
     "text": [
      "\n",
      "Action: age:  25%|██▌       | 1/4 [00:00<00:02,  1.10it/s]\u001b[A\n",
      "Action: gender:  25%|██▌       | 1/4 [00:00<00:02,  1.10it/s]\u001b[A\n",
      "Action: gender:  50%|█████     | 2/4 [00:01<00:01,  1.46it/s]\u001b[A\n",
      "Action: race:  50%|█████     | 2/4 [00:01<00:01,  1.46it/s]  \u001b[A\n",
      "Action: race:  75%|███████▌  | 3/4 [00:01<00:00,  1.90it/s]\u001b[A\n",
      "Action: emotion:  75%|███████▌  | 3/4 [00:01<00:00,  1.90it/s]\u001b[A\n",
      "Action: emotion: 100%|██████████| 4/4 [00:01<00:00,  2.24it/s]\u001b[A\n",
      "\n",
      "Finding actions:   0%|          | 0/4 [00:00<?, ?it/s]\u001b[A\n",
      "Action: age:   0%|          | 0/4 [00:00<?, ?it/s]    \u001b[A"
     ]
    },
    {
     "name": "stdout",
     "output_type": "stream",
     "text": [
      "25  years old  white   happy   Man\n"
     ]
    },
    {
     "name": "stderr",
     "output_type": "stream",
     "text": [
      "\n",
      "Action: age:  25%|██▌       | 1/4 [00:00<00:02,  1.12it/s]\u001b[A\n",
      "Action: gender:  25%|██▌       | 1/4 [00:00<00:02,  1.12it/s]\u001b[A\n",
      "Action: gender:  50%|█████     | 2/4 [00:01<00:01,  1.50it/s]\u001b[A\n",
      "Action: race:  50%|█████     | 2/4 [00:01<00:01,  1.50it/s]  \u001b[A\n",
      "Action: race:  75%|███████▌  | 3/4 [00:01<00:00,  1.95it/s]\u001b[A\n",
      "Action: emotion:  75%|███████▌  | 3/4 [00:01<00:00,  1.95it/s]\u001b[A\n",
      "Action: emotion: 100%|██████████| 4/4 [00:01<00:00,  2.29it/s]\u001b[A\n",
      "\n",
      "Finding actions:   0%|          | 0/4 [00:00<?, ?it/s]\u001b[A\n",
      "Action: age:   0%|          | 0/4 [00:00<?, ?it/s]    \u001b[A"
     ]
    },
    {
     "name": "stdout",
     "output_type": "stream",
     "text": [
      "24  years old  white   happy   Man\n"
     ]
    },
    {
     "name": "stderr",
     "output_type": "stream",
     "text": [
      "\n",
      "Action: age:  25%|██▌       | 1/4 [00:00<00:02,  1.13it/s]\u001b[A\n",
      "Action: gender:  25%|██▌       | 1/4 [00:00<00:02,  1.13it/s]\u001b[A\n",
      "Action: gender:  50%|█████     | 2/4 [00:01<00:01,  1.50it/s]\u001b[A\n",
      "Action: race:  50%|█████     | 2/4 [00:01<00:01,  1.50it/s]  \u001b[A\n",
      "Action: race:  75%|███████▌  | 3/4 [00:01<00:00,  1.96it/s]\u001b[A\n",
      "Action: emotion:  75%|███████▌  | 3/4 [00:01<00:00,  1.96it/s]\u001b[A\n",
      "Action: emotion: 100%|██████████| 4/4 [00:01<00:00,  2.30it/s]\u001b[A\n",
      "\n",
      "Finding actions:   0%|          | 0/4 [00:00<?, ?it/s]\u001b[A\n",
      "Action: age:   0%|          | 0/4 [00:00<?, ?it/s]    \u001b[A"
     ]
    },
    {
     "name": "stdout",
     "output_type": "stream",
     "text": [
      "25  years old  white   happy   Man\n"
     ]
    },
    {
     "name": "stderr",
     "output_type": "stream",
     "text": [
      "\n",
      "Action: age:  25%|██▌       | 1/4 [00:00<00:02,  1.11it/s]\u001b[A\n",
      "Action: gender:  25%|██▌       | 1/4 [00:00<00:02,  1.11it/s]\u001b[A\n",
      "Action: gender:  50%|█████     | 2/4 [00:01<00:01,  1.47it/s]\u001b[A\n",
      "Action: race:  50%|█████     | 2/4 [00:01<00:01,  1.47it/s]  \u001b[A\n",
      "Action: race:  75%|███████▌  | 3/4 [00:01<00:00,  1.91it/s]\u001b[A\n",
      "Action: emotion:  75%|███████▌  | 3/4 [00:01<00:00,  1.91it/s]\u001b[A\n",
      "Action: emotion: 100%|██████████| 4/4 [00:01<00:00,  2.24it/s]\u001b[A\n",
      "\n",
      "Finding actions:   0%|          | 0/4 [00:00<?, ?it/s]\u001b[A\n",
      "Action: age:   0%|          | 0/4 [00:00<?, ?it/s]    \u001b[A"
     ]
    },
    {
     "name": "stdout",
     "output_type": "stream",
     "text": [
      "24  years old  white   happy   Man\n"
     ]
    },
    {
     "name": "stderr",
     "output_type": "stream",
     "text": [
      "\n",
      "Action: age:  25%|██▌       | 1/4 [00:01<00:03,  1.03s/it]\u001b[A\n",
      "Action: gender:  25%|██▌       | 1/4 [00:01<00:03,  1.03s/it]\u001b[A\n",
      "Action: gender:  50%|█████     | 2/4 [00:01<00:01,  1.30it/s]\u001b[A\n",
      "Action: race:  50%|█████     | 2/4 [00:01<00:01,  1.30it/s]  \u001b[A\n",
      "Action: race:  75%|███████▌  | 3/4 [00:01<00:00,  1.71it/s]\u001b[A\n",
      "Action: emotion:  75%|███████▌  | 3/4 [00:01<00:00,  1.71it/s]\u001b[A\n",
      "Action: emotion: 100%|██████████| 4/4 [00:01<00:00,  2.09it/s]\u001b[A\n",
      "\n",
      "Finding actions:   0%|          | 0/4 [00:00<?, ?it/s]\u001b[A\n",
      "Action: age:   0%|          | 0/4 [00:00<?, ?it/s]    \u001b[A"
     ]
    },
    {
     "name": "stdout",
     "output_type": "stream",
     "text": [
      "24  years old  white   fear   Man\n"
     ]
    },
    {
     "name": "stderr",
     "output_type": "stream",
     "text": [
      "\n",
      "Action: age:  25%|██▌       | 1/4 [00:00<00:02,  1.11it/s]\u001b[A\n",
      "Action: gender:  25%|██▌       | 1/4 [00:00<00:02,  1.11it/s]\u001b[A\n",
      "Action: gender:  50%|█████     | 2/4 [00:01<00:01,  1.48it/s]\u001b[A\n",
      "Action: race:  50%|█████     | 2/4 [00:01<00:01,  1.48it/s]  \u001b[A\n",
      "Action: race:  75%|███████▌  | 3/4 [00:01<00:00,  1.93it/s]\u001b[A\n",
      "Action: emotion:  75%|███████▌  | 3/4 [00:01<00:00,  1.93it/s]\u001b[A\n",
      "Action: emotion: 100%|██████████| 4/4 [00:01<00:00,  2.18it/s]\u001b[A\n",
      "\n",
      "Finding actions:   0%|          | 0/4 [00:00<?, ?it/s]\u001b[A\n",
      "Action: age:   0%|          | 0/4 [00:00<?, ?it/s]    \u001b[A"
     ]
    },
    {
     "name": "stdout",
     "output_type": "stream",
     "text": [
      "26  years old  white   happy   Man\n"
     ]
    },
    {
     "name": "stderr",
     "output_type": "stream",
     "text": [
      "\n",
      "Action: age:  25%|██▌       | 1/4 [00:01<00:03,  1.02s/it]\u001b[A\n",
      "Action: gender:  25%|██▌       | 1/4 [00:01<00:03,  1.02s/it]\u001b[A\n",
      "Action: gender:  50%|█████     | 2/4 [00:01<00:01,  1.32it/s]\u001b[A\n",
      "Action: race:  50%|█████     | 2/4 [00:01<00:01,  1.32it/s]  \u001b[A\n",
      "Action: race:  75%|███████▌  | 3/4 [00:01<00:00,  1.69it/s]\u001b[A\n",
      "Action: emotion:  75%|███████▌  | 3/4 [00:01<00:00,  1.69it/s]\u001b[A\n",
      "Action: emotion: 100%|██████████| 4/4 [00:02<00:00,  1.95it/s]\u001b[A\n",
      "\n",
      "Finding actions:   0%|          | 0/4 [00:00<?, ?it/s]\u001b[A\n",
      "Action: age:   0%|          | 0/4 [00:00<?, ?it/s]    \u001b[A"
     ]
    },
    {
     "name": "stdout",
     "output_type": "stream",
     "text": [
      "27  years old  white   happy   Man\n"
     ]
    },
    {
     "name": "stderr",
     "output_type": "stream",
     "text": [
      "\n",
      "Action: age:  25%|██▌       | 1/4 [00:00<00:02,  1.07it/s]\u001b[A\n",
      "Action: gender:  25%|██▌       | 1/4 [00:00<00:02,  1.07it/s]\u001b[A\n",
      "Action: gender:  50%|█████     | 2/4 [00:01<00:01,  1.43it/s]\u001b[A\n",
      "Action: race:  50%|█████     | 2/4 [00:01<00:01,  1.43it/s]  \u001b[A\n",
      "Action: race:  75%|███████▌  | 3/4 [00:01<00:00,  1.86it/s]\u001b[A\n",
      "Action: emotion:  75%|███████▌  | 3/4 [00:01<00:00,  1.86it/s]\u001b[A\n",
      "Action: emotion: 100%|██████████| 4/4 [00:01<00:00,  2.21it/s]\u001b[A\n",
      "\n",
      "Finding actions:   0%|          | 0/4 [00:00<?, ?it/s]\u001b[A\n",
      "Action: age:   0%|          | 0/4 [00:00<?, ?it/s]    \u001b[A"
     ]
    },
    {
     "name": "stdout",
     "output_type": "stream",
     "text": [
      "28  years old  white   happy   Man\n"
     ]
    },
    {
     "name": "stderr",
     "output_type": "stream",
     "text": [
      "\n",
      "Action: age:  25%|██▌       | 1/4 [00:00<00:02,  1.13it/s]\u001b[A\n",
      "Action: gender:  25%|██▌       | 1/4 [00:00<00:02,  1.13it/s]\u001b[A\n",
      "Action: gender:  50%|█████     | 2/4 [00:01<00:01,  1.50it/s]\u001b[A\n",
      "Action: race:  50%|█████     | 2/4 [00:01<00:01,  1.50it/s]  \u001b[A\n",
      "Action: race:  75%|███████▌  | 3/4 [00:01<00:00,  1.95it/s]\u001b[A\n",
      "Action: emotion:  75%|███████▌  | 3/4 [00:01<00:00,  1.95it/s]\u001b[A\n",
      "Action: emotion: 100%|██████████| 4/4 [00:01<00:00,  2.18it/s]\u001b[A"
     ]
    },
    {
     "name": "stdout",
     "output_type": "stream",
     "text": [
      "26  years old  white   happy   Man\n"
     ]
    },
    {
     "name": "stderr",
     "output_type": "stream",
     "text": [
      "\n"
     ]
    }
   ],
   "source": [
    "import cv2\n",
    "from progress.bar import Bar\n",
    "from deepface import DeepFace\n",
    "\n",
    "frames_analysis=[]\n",
    "for i in video_files:\n",
    "    print(i)\n",
    "\n",
    "    age=[]\n",
    "    dominant_race=[]\n",
    "    dominant_emotion=[]\n",
    "    gender=[]\n",
    "\n",
    "    cap=cv2.VideoCapture(i)\n",
    "    length = int(cap.get(cv2.CAP_PROP_FRAME_COUNT))\n",
    "    bar = Bar('Processing Frames', max=length)\n",
    "    for i in range(0, 20):\n",
    "        ret, frame = cap.read()\n",
    "        cv2.imwrite(\"frame/1.jpg\",frame)\n",
    "        obj = DeepFace.analyze(img_path = \"frame/1.jpg\", actions = ['age', 'gender', 'race', 'emotion'],enforce_detection=False)\n",
    "        age.append(obj[\"age\"])\n",
    "        dominant_race.append(obj[\"dominant_race\"])\n",
    "        dominant_emotion.append(obj[\"dominant_emotion\"])\n",
    "        gender.append(obj[\"gender\"])\n",
    "\n",
    "        print(obj[\"age\"],\" years old \",obj[\"dominant_race\"],\" \",obj[\"dominant_emotion\"],\" \", obj[\"gender\"])\n",
    "        bar.next()\n",
    "    bar.finish()\n",
    "    d={\"age\":age,\"dominant_race\":dominant_race,\"dominant_emotion\":dominant_emotion,\"gender\":gender}\n",
    "    frames_analysis.append(d)\n"
   ]
  },
  {
   "cell_type": "code",
   "execution_count": 12,
   "metadata": {},
   "outputs": [
    {
     "data": {
      "text/plain": [
       "[[[25, 25, 25, 25, 25, 25, 25, 25, 25, 25],\n",
       "  ['white',\n",
       "   'white',\n",
       "   'white',\n",
       "   'white',\n",
       "   'white',\n",
       "   'white',\n",
       "   'white',\n",
       "   'white',\n",
       "   'white',\n",
       "   'white'],\n",
       "  ['fear',\n",
       "   'fear',\n",
       "   'fear',\n",
       "   'fear',\n",
       "   'fear',\n",
       "   'fear',\n",
       "   'fear',\n",
       "   'fear',\n",
       "   'fear',\n",
       "   'fear'],\n",
       "  ['Man', 'Man', 'Man', 'Man', 'Man', 'Man', 'Man', 'Man', 'Man', 'Man']],\n",
       " [[25, 25, 24, 25, 24, 24, 26, 27, 28, 26],\n",
       "  ['white',\n",
       "   'white',\n",
       "   'white',\n",
       "   'white',\n",
       "   'white',\n",
       "   'white',\n",
       "   'white',\n",
       "   'white',\n",
       "   'white',\n",
       "   'white'],\n",
       "  ['happy',\n",
       "   'happy',\n",
       "   'happy',\n",
       "   'happy',\n",
       "   'happy',\n",
       "   'fear',\n",
       "   'happy',\n",
       "   'happy',\n",
       "   'happy',\n",
       "   'happy'],\n",
       "  ['Man', 'Man', 'Man', 'Man', 'Man', 'Man', 'Man', 'Man', 'Man', 'Man']]]"
      ]
     },
     "execution_count": 12,
     "metadata": {},
     "output_type": "execute_result"
    }
   ],
   "source": [
    "frames_analysis"
   ]
  },
  {
   "cell_type": "code",
   "execution_count": null,
   "metadata": {},
   "outputs": [],
   "source": []
  }
 ],
 "metadata": {
  "kernelspec": {
   "display_name": "Python 3",
   "language": "python",
   "name": "python3"
  },
  "language_info": {
   "codemirror_mode": {
    "name": "ipython",
    "version": 3
   },
   "file_extension": ".py",
   "mimetype": "text/x-python",
   "name": "python",
   "nbconvert_exporter": "python",
   "pygments_lexer": "ipython3",
   "version": "3.8.5"
  }
 },
 "nbformat": 4,
 "nbformat_minor": 4
}
