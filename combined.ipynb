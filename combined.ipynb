{
 "cells": [
  {
   "cell_type": "code",
   "execution_count": 1,
   "metadata": {},
   "outputs": [
    {
     "data": {
      "text/plain": [
       "['input_video/2.mp4', 'input_video/1.mp4']"
      ]
     },
     "execution_count": 1,
     "metadata": {},
     "output_type": "execute_result"
    }
   ],
   "source": [
    "import glob\n",
    "video_files=glob.glob(\"input_video/*.mp4\")\n",
    "video_files"
   ]
  },
  {
   "cell_type": "code",
   "execution_count": 3,
   "metadata": {},
   "outputs": [
    {
     "name": "stdout",
     "output_type": "stream",
     "text": [
      "input_video/2.mp4\n",
      "2 mp4\n",
      "ffmpeg -i input_video/2.mp4 -ac 2 -f wav wav/2.wav -y\n",
      "0\n",
      "input_video/1.mp4\n",
      "1 mp4\n",
      "ffmpeg -i input_video/1.mp4 -ac 2 -f wav wav/1.wav -y\n",
      "0\n"
     ]
    }
   ],
   "source": [
    "import os\n",
    "\n",
    "def convert_and_split(filename,extension):\n",
    "    command=f\"ffmpeg -i input_video/{filename}.{extension} -ac 2 -f wav wav/{filename}.wav -y\"\n",
    "    print(command)\n",
    "    result=os.system(command)\n",
    "    print(result)\n",
    "\n",
    "    \n",
    "filenames=[]   \n",
    "for i in  video_files:\n",
    "    print(i)\n",
    "    filepath= i\n",
    "    filename=filepath.split(\"/\")[1].split(\".\")[0]\n",
    "    extension=filepath.split(\"/\")[1].split(\".\")[1]\n",
    "    filenames.append(f\"{filename}.{extension}\")\n",
    "    print(filename,extension)\n",
    "    convert_and_split(filename,extension)"
   ]
  },
  {
   "cell_type": "code",
   "execution_count": 4,
   "metadata": {},
   "outputs": [],
   "source": [
    "import speech_recognition as sr\n",
    "\n",
    "def speech_to_text(f):\n",
    "    # Initialize recognizer class (for recognizing the speech)\n",
    "    r = sr.Recognizer()\n",
    "    # Reading Audio file as source\n",
    "    # listening the audio file and store in audio_text variable\n",
    "    with sr.AudioFile(f) as source:\n",
    "        audio_text = r.listen(source)\n",
    "    # recoginize_() method will throw a request error if the API is unreachable, hence using exception handling\n",
    "        try:\n",
    "            # using google speech recognition\n",
    "            text = r.recognize_google(audio_text)\n",
    "            print('Converting audio transcripts into text ...')\n",
    "#             print(text)\n",
    "            return text\n",
    "        except:\n",
    "            print('Sorry.. run again...')\n",
    "            return \"\""
   ]
  },
  {
   "cell_type": "code",
   "execution_count": 5,
   "metadata": {},
   "outputs": [
    {
     "data": {
      "text/plain": [
       "['wav/1.wav', 'wav/2.wav']"
      ]
     },
     "execution_count": 5,
     "metadata": {},
     "output_type": "execute_result"
    }
   ],
   "source": [
    "audio_files=glob.glob(\"wav/*.wav\")\n",
    "audio_files"
   ]
  },
  {
   "cell_type": "code",
   "execution_count": 6,
   "metadata": {},
   "outputs": [
    {
     "name": "stdout",
     "output_type": "stream",
     "text": [
      "wav/1.wav\n",
      "Converting audio transcripts into text ...\n",
      "wav/2.wav\n",
      "Converting audio transcripts into text ...\n",
      "[\"are you receive negative feedback from your manager or colleagues at work my guess is that you have and that's why you're here research shows that people who are there at handling negative feedback tend to be more successful when they also can learning to handle negative feedback effectively is a must for your professional and personal development do you have a minute to chatting private the bleach opening line ring a bell no matter how well you do your job receiving negative feedback from your superior client liaison college can be quite challenging take me to the end of this video to learn how to turn negative feedback into something positive and Maharashtra motion by motion that come career and recruitment services agency book me up on LinkedIn please subscribe to my channel and hit a little well so you won't miss out on the latest\", 'power project on the inside community and ask for feedback from the joint secretary and it was actually quite level of state of our efforts and then we call to release details and a well-developed feedback with points if I had to take into consideration and that we needed to adjust and actually that was really good to bring our project ideas of the other and actually and has been proved so as to the feedback was important that']\n"
     ]
    }
   ],
   "source": [
    "transcribed_audio=[]\n",
    "for f in audio_files:\n",
    "    print(f)\n",
    "    text=speech_to_text(f)\n",
    "    transcribed_audio.append(text)\n",
    "print(transcribed_audio)"
   ]
  },
  {
   "cell_type": "code",
   "execution_count": 7,
   "metadata": {},
   "outputs": [
    {
     "name": "stdout",
     "output_type": "stream",
     "text": [
      "[[('to', 7), ('you', 5), ('negative', 5), ('feedback', 5), ('and', 5), ('your', 4), ('a', 4), ('that', 3), ('the', 3), ('are', 2), ('from', 2), ('at', 2), ('my', 2), ('is', 2), ('have', 2), ('be', 2), ('can', 2), ('do', 2), ('how', 2), ('well', 2), ('me', 2), ('motion', 2), ('on', 2), ('receive', 1), ('manager', 1), ('or', 1), ('colleagues', 1), ('work', 1), ('guess', 1), (\"that's\", 1), ('why', 1), (\"you're\", 1), ('here', 1), ('research', 1), ('shows', 1), ('people', 1), ('who', 1), ('there', 1), ('handling', 1), ('tend', 1), ('more', 1), ('successful', 1), ('when', 1), ('they', 1), ('also', 1), ('learning', 1), ('handle', 1), ('effectively', 1), ('must', 1), ('for', 1), ('professional', 1), ('personal', 1), ('development', 1), ('minute', 1), ('chatting', 1), ('private', 1), ('bleach', 1), ('opening', 1), ('line', 1), ('ring', 1), ('bell', 1), ('no', 1), ('matter', 1), ('job', 1), ('receiving', 1), ('superior', 1), ('client', 1), ('liaison', 1), ('college', 1), ('quite', 1), ('challenging', 1), ('take', 1), ('end', 1), ('of', 1), ('this', 1), ('video', 1), ('learn', 1), ('turn', 1), ('into', 1), ('something', 1), ('positive', 1), ('Maharashtra', 1), ('by', 1), ('come', 1), ('career', 1), ('recruitment', 1), ('services', 1), ('agency', 1), ('book', 1), ('up', 1), ('LinkedIn', 1), ('please', 1), ('subscribe', 1), ('channel', 1), ('hit', 1), ('little', 1), ('so', 1), (\"won't\", 1), ('miss', 1), ('out', 1), ('latest', 1)], [('and', 8), ('to', 5), ('the', 4), ('feedback', 3), ('was', 3), ('actually', 3), ('of', 3), ('that', 3), ('project', 2), ('our', 2), ('we', 2), ('power', 1), ('on', 1), ('inside', 1), ('community', 1), ('ask', 1), ('for', 1), ('from', 1), ('joint', 1), ('secretary', 1), ('it', 1), ('quite', 1), ('level', 1), ('state', 1), ('efforts', 1), ('then', 1), ('call', 1), ('release', 1), ('details', 1), ('a', 1), ('well-developed', 1), ('with', 1), ('points', 1), ('if', 1), ('I', 1), ('had', 1), ('take', 1), ('into', 1), ('consideration', 1), ('needed', 1), ('adjust', 1), ('really', 1), ('good', 1), ('bring', 1), ('ideas', 1), ('other', 1), ('has', 1), ('been', 1), ('proved', 1), ('so', 1), ('as', 1), ('important', 1)]]\n"
     ]
    }
   ],
   "source": [
    "from collections import Counter\n",
    "frequency=[]\n",
    "for i in transcribed_audio:\n",
    "    l=i.split(\" \")\n",
    "    counts = Counter(l)\n",
    "    words_frequency=counts.most_common(1000)\n",
    "    frequency.append(words_frequency)\n",
    "print(frequency)"
   ]
  },
  {
   "cell_type": "code",
   "execution_count": 8,
   "metadata": {},
   "outputs": [
    {
     "data": {
      "text/plain": [
       "['1.mp4', '2.mp4']"
      ]
     },
     "execution_count": 8,
     "metadata": {},
     "output_type": "execute_result"
    }
   ],
   "source": [
    "filenames.sort()\n",
    "filenames"
   ]
  },
  {
   "cell_type": "code",
   "execution_count": 11,
   "metadata": {},
   "outputs": [
    {
     "name": "stderr",
     "output_type": "stream",
     "text": [
      "Action: age:   0%|          | 0/4 [00:00<?, ?it/s]    "
     ]
    },
    {
     "name": "stdout",
     "output_type": "stream",
     "text": [
      "1.mp4\n"
     ]
    },
    {
     "name": "stderr",
     "output_type": "stream",
     "text": [
      "Action: emotion: 100%|██████████| 4/4 [00:01<00:00,  2.26it/s]\n",
      "Action: age:   0%|          | 0/4 [00:00<?, ?it/s]    "
     ]
    },
    {
     "name": "stdout",
     "output_type": "stream",
     "text": [
      "25  years old  white   happy   Man\n"
     ]
    },
    {
     "name": "stderr",
     "output_type": "stream",
     "text": [
      "Action: emotion: 100%|██████████| 4/4 [00:01<00:00,  2.31it/s]\n",
      "Action: age:   0%|          | 0/4 [00:00<?, ?it/s]    "
     ]
    },
    {
     "name": "stdout",
     "output_type": "stream",
     "text": [
      "25  years old  white   happy   Man\n"
     ]
    },
    {
     "name": "stderr",
     "output_type": "stream",
     "text": [
      "Action: emotion: 100%|██████████| 4/4 [00:01<00:00,  2.17it/s]\n",
      "Action: age:   0%|          | 0/4 [00:00<?, ?it/s]    "
     ]
    },
    {
     "name": "stdout",
     "output_type": "stream",
     "text": [
      "24  years old  white   happy   Man\n"
     ]
    },
    {
     "name": "stderr",
     "output_type": "stream",
     "text": [
      "Action: emotion: 100%|██████████| 4/4 [00:01<00:00,  2.30it/s]\n",
      "Action: age:   0%|          | 0/4 [00:00<?, ?it/s]    "
     ]
    },
    {
     "name": "stdout",
     "output_type": "stream",
     "text": [
      "25  years old  white   happy   Man\n"
     ]
    },
    {
     "name": "stderr",
     "output_type": "stream",
     "text": [
      "Action: emotion: 100%|██████████| 4/4 [00:01<00:00,  2.31it/s]\n",
      "Action: age:   0%|          | 0/4 [00:00<?, ?it/s]    "
     ]
    },
    {
     "name": "stdout",
     "output_type": "stream",
     "text": [
      "24  years old  white   happy   Man\n"
     ]
    },
    {
     "name": "stderr",
     "output_type": "stream",
     "text": [
      "Action: emotion: 100%|██████████| 4/4 [00:01<00:00,  2.30it/s]\n",
      "Action: age:   0%|          | 0/4 [00:00<?, ?it/s]    "
     ]
    },
    {
     "name": "stdout",
     "output_type": "stream",
     "text": [
      "24  years old  white   fear   Man\n"
     ]
    },
    {
     "name": "stderr",
     "output_type": "stream",
     "text": [
      "Action: emotion: 100%|██████████| 4/4 [00:01<00:00,  2.13it/s]\n",
      "Action: age:   0%|          | 0/4 [00:00<?, ?it/s]    "
     ]
    },
    {
     "name": "stdout",
     "output_type": "stream",
     "text": [
      "26  years old  white   happy   Man\n"
     ]
    },
    {
     "name": "stderr",
     "output_type": "stream",
     "text": [
      "Action: emotion: 100%|██████████| 4/4 [00:01<00:00,  2.27it/s]\n",
      "Action: age:   0%|          | 0/4 [00:00<?, ?it/s]    "
     ]
    },
    {
     "name": "stdout",
     "output_type": "stream",
     "text": [
      "27  years old  white   happy   Man\n"
     ]
    },
    {
     "name": "stderr",
     "output_type": "stream",
     "text": [
      "Action: emotion: 100%|██████████| 4/4 [00:01<00:00,  2.30it/s]\n",
      "Action: age:   0%|          | 0/4 [00:00<?, ?it/s]    "
     ]
    },
    {
     "name": "stdout",
     "output_type": "stream",
     "text": [
      "28  years old  white   happy   Man\n"
     ]
    },
    {
     "name": "stderr",
     "output_type": "stream",
     "text": [
      "Action: emotion: 100%|██████████| 4/4 [00:01<00:00,  2.35it/s]\n",
      "Action: age:   0%|          | 0/4 [00:00<?, ?it/s]    "
     ]
    },
    {
     "name": "stdout",
     "output_type": "stream",
     "text": [
      "26  years old  white   happy   Man\n"
     ]
    },
    {
     "name": "stderr",
     "output_type": "stream",
     "text": [
      "Action: emotion: 100%|██████████| 4/4 [00:01<00:00,  2.29it/s]\n",
      "Action: age:   0%|          | 0/4 [00:00<?, ?it/s]    "
     ]
    },
    {
     "name": "stdout",
     "output_type": "stream",
     "text": [
      "28  years old  white   happy   Man\n"
     ]
    },
    {
     "name": "stderr",
     "output_type": "stream",
     "text": [
      "Action: emotion: 100%|██████████| 4/4 [00:01<00:00,  2.15it/s]\n",
      "Action: age:   0%|          | 0/4 [00:00<?, ?it/s]    "
     ]
    },
    {
     "name": "stdout",
     "output_type": "stream",
     "text": [
      "25  years old  white   happy   Man\n"
     ]
    },
    {
     "name": "stderr",
     "output_type": "stream",
     "text": [
      "Action: emotion: 100%|██████████| 4/4 [00:01<00:00,  2.28it/s]\n",
      "Action: age:   0%|          | 0/4 [00:00<?, ?it/s]    "
     ]
    },
    {
     "name": "stdout",
     "output_type": "stream",
     "text": [
      "26  years old  white   happy   Man\n"
     ]
    },
    {
     "name": "stderr",
     "output_type": "stream",
     "text": [
      "Action: emotion: 100%|██████████| 4/4 [00:01<00:00,  2.29it/s]\n",
      "Action: age:   0%|          | 0/4 [00:00<?, ?it/s]    "
     ]
    },
    {
     "name": "stdout",
     "output_type": "stream",
     "text": [
      "25  years old  white   happy   Man\n"
     ]
    },
    {
     "name": "stderr",
     "output_type": "stream",
     "text": [
      "Action: emotion: 100%|██████████| 4/4 [00:01<00:00,  2.30it/s]\n",
      "Action: age:   0%|          | 0/4 [00:00<?, ?it/s]    "
     ]
    },
    {
     "name": "stdout",
     "output_type": "stream",
     "text": [
      "25  years old  white   happy   Man\n"
     ]
    },
    {
     "name": "stderr",
     "output_type": "stream",
     "text": [
      "Action: emotion: 100%|██████████| 4/4 [00:01<00:00,  2.14it/s]\n",
      "Action: age:   0%|          | 0/4 [00:00<?, ?it/s]    "
     ]
    },
    {
     "name": "stdout",
     "output_type": "stream",
     "text": [
      "25  years old  white   happy   Man\n"
     ]
    },
    {
     "name": "stderr",
     "output_type": "stream",
     "text": [
      "Action: emotion: 100%|██████████| 4/4 [00:01<00:00,  2.28it/s]\n",
      "Action: age:   0%|          | 0/4 [00:00<?, ?it/s]    "
     ]
    },
    {
     "name": "stdout",
     "output_type": "stream",
     "text": [
      "26  years old  white   happy   Man\n"
     ]
    },
    {
     "name": "stderr",
     "output_type": "stream",
     "text": [
      "Action: emotion: 100%|██████████| 4/4 [00:01<00:00,  2.35it/s]\n",
      "Action: age:   0%|          | 0/4 [00:00<?, ?it/s]    "
     ]
    },
    {
     "name": "stdout",
     "output_type": "stream",
     "text": [
      "28  years old  white   happy   Man\n"
     ]
    },
    {
     "name": "stderr",
     "output_type": "stream",
     "text": [
      "Action: emotion: 100%|██████████| 4/4 [00:01<00:00,  2.35it/s]\n",
      "Action: age:   0%|          | 0/4 [00:00<?, ?it/s]    "
     ]
    },
    {
     "name": "stdout",
     "output_type": "stream",
     "text": [
      "28  years old  white   happy   Man\n"
     ]
    },
    {
     "name": "stderr",
     "output_type": "stream",
     "text": [
      "Action: emotion: 100%|██████████| 4/4 [00:01<00:00,  2.28it/s]\n"
     ]
    },
    {
     "name": "stdout",
     "output_type": "stream",
     "text": [
      "27  years old  white   happy   Man\n",
      "2.mp4\n"
     ]
    },
    {
     "name": "stderr",
     "output_type": "stream",
     "text": [
      "Action: emotion: 100%|██████████| 4/4 [00:01<00:00,  2.36it/s]\n",
      "Action: age:   0%|          | 0/4 [00:00<?, ?it/s]    "
     ]
    },
    {
     "name": "stdout",
     "output_type": "stream",
     "text": [
      "25  years old  white   fear   Man\n"
     ]
    },
    {
     "name": "stderr",
     "output_type": "stream",
     "text": [
      "Action: emotion: 100%|██████████| 4/4 [00:01<00:00,  2.37it/s]\n",
      "Action: age:   0%|          | 0/4 [00:00<?, ?it/s]    "
     ]
    },
    {
     "name": "stdout",
     "output_type": "stream",
     "text": [
      "25  years old  white   fear   Man\n"
     ]
    },
    {
     "name": "stderr",
     "output_type": "stream",
     "text": [
      "Action: emotion: 100%|██████████| 4/4 [00:01<00:00,  2.37it/s]\n",
      "Action: age:   0%|          | 0/4 [00:00<?, ?it/s]    "
     ]
    },
    {
     "name": "stdout",
     "output_type": "stream",
     "text": [
      "25  years old  white   fear   Man\n"
     ]
    },
    {
     "name": "stderr",
     "output_type": "stream",
     "text": [
      "Action: emotion: 100%|██████████| 4/4 [00:01<00:00,  2.36it/s]\n",
      "Action: age:   0%|          | 0/4 [00:00<?, ?it/s]    "
     ]
    },
    {
     "name": "stdout",
     "output_type": "stream",
     "text": [
      "25  years old  white   fear   Man\n"
     ]
    },
    {
     "name": "stderr",
     "output_type": "stream",
     "text": [
      "Action: emotion: 100%|██████████| 4/4 [00:01<00:00,  2.39it/s]\n",
      "Action: age:   0%|          | 0/4 [00:00<?, ?it/s]    "
     ]
    },
    {
     "name": "stdout",
     "output_type": "stream",
     "text": [
      "25  years old  white   fear   Man\n"
     ]
    },
    {
     "name": "stderr",
     "output_type": "stream",
     "text": [
      "Action: emotion: 100%|██████████| 4/4 [00:01<00:00,  2.21it/s]\n",
      "Action: age:   0%|          | 0/4 [00:00<?, ?it/s]    "
     ]
    },
    {
     "name": "stdout",
     "output_type": "stream",
     "text": [
      "25  years old  white   fear   Man\n"
     ]
    },
    {
     "name": "stderr",
     "output_type": "stream",
     "text": [
      "Action: emotion: 100%|██████████| 4/4 [00:01<00:00,  2.37it/s]\n",
      "Action: age:   0%|          | 0/4 [00:00<?, ?it/s]    "
     ]
    },
    {
     "name": "stdout",
     "output_type": "stream",
     "text": [
      "25  years old  white   fear   Man\n"
     ]
    },
    {
     "name": "stderr",
     "output_type": "stream",
     "text": [
      "Action: emotion: 100%|██████████| 4/4 [00:01<00:00,  2.38it/s]\n",
      "Action: age:   0%|          | 0/4 [00:00<?, ?it/s]    "
     ]
    },
    {
     "name": "stdout",
     "output_type": "stream",
     "text": [
      "25  years old  white   fear   Man\n"
     ]
    },
    {
     "name": "stderr",
     "output_type": "stream",
     "text": [
      "Action: emotion: 100%|██████████| 4/4 [00:01<00:00,  2.37it/s]\n",
      "Action: age:   0%|          | 0/4 [00:00<?, ?it/s]    "
     ]
    },
    {
     "name": "stdout",
     "output_type": "stream",
     "text": [
      "25  years old  white   fear   Man\n"
     ]
    },
    {
     "name": "stderr",
     "output_type": "stream",
     "text": [
      "Action: emotion: 100%|██████████| 4/4 [00:01<00:00,  2.38it/s]\n",
      "Action: age:   0%|          | 0/4 [00:00<?, ?it/s]    "
     ]
    },
    {
     "name": "stdout",
     "output_type": "stream",
     "text": [
      "25  years old  white   fear   Man\n"
     ]
    },
    {
     "name": "stderr",
     "output_type": "stream",
     "text": [
      "Action: emotion: 100%|██████████| 4/4 [00:01<00:00,  2.25it/s]\n",
      "Action: age:   0%|          | 0/4 [00:00<?, ?it/s]    "
     ]
    },
    {
     "name": "stdout",
     "output_type": "stream",
     "text": [
      "25  years old  white   fear   Man\n"
     ]
    },
    {
     "name": "stderr",
     "output_type": "stream",
     "text": [
      "Action: emotion: 100%|██████████| 4/4 [00:01<00:00,  2.24it/s]\n",
      "Action: age:   0%|          | 0/4 [00:00<?, ?it/s]    "
     ]
    },
    {
     "name": "stdout",
     "output_type": "stream",
     "text": [
      "25  years old  white   fear   Man\n"
     ]
    },
    {
     "name": "stderr",
     "output_type": "stream",
     "text": [
      "Action: emotion: 100%|██████████| 4/4 [00:01<00:00,  2.29it/s]\n"
     ]
    },
    {
     "name": "stdout",
     "output_type": "stream",
     "text": [
      "25  years old  white   fear   Man\n"
     ]
    },
    {
     "name": "stderr",
     "output_type": "stream",
     "text": [
      "Action: emotion: 100%|██████████| 4/4 [00:01<00:00,  2.14it/s]\n",
      "Action: age:   0%|          | 0/4 [00:00<?, ?it/s]    "
     ]
    },
    {
     "name": "stdout",
     "output_type": "stream",
     "text": [
      "25  years old  white   fear   Man\n"
     ]
    },
    {
     "name": "stderr",
     "output_type": "stream",
     "text": [
      "Action: emotion: 100%|██████████| 4/4 [00:01<00:00,  2.10it/s]\n",
      "Action: age:   0%|          | 0/4 [00:00<?, ?it/s]    "
     ]
    },
    {
     "name": "stdout",
     "output_type": "stream",
     "text": [
      "25  years old  white   fear   Man\n"
     ]
    },
    {
     "name": "stderr",
     "output_type": "stream",
     "text": [
      "Action: emotion: 100%|██████████| 4/4 [00:01<00:00,  2.33it/s]\n",
      "Action: age:   0%|          | 0/4 [00:00<?, ?it/s]    "
     ]
    },
    {
     "name": "stdout",
     "output_type": "stream",
     "text": [
      "25  years old  white   fear   Man\n"
     ]
    },
    {
     "name": "stderr",
     "output_type": "stream",
     "text": [
      "Action: emotion: 100%|██████████| 4/4 [00:01<00:00,  2.22it/s]\n",
      "Action: age:   0%|          | 0/4 [00:00<?, ?it/s]    "
     ]
    },
    {
     "name": "stdout",
     "output_type": "stream",
     "text": [
      "25  years old  white   fear   Man\n"
     ]
    },
    {
     "name": "stderr",
     "output_type": "stream",
     "text": [
      "Action: emotion: 100%|██████████| 4/4 [00:01<00:00,  2.32it/s]\n",
      "Action: age:   0%|          | 0/4 [00:00<?, ?it/s]    "
     ]
    },
    {
     "name": "stdout",
     "output_type": "stream",
     "text": [
      "25  years old  white   fear   Man\n"
     ]
    },
    {
     "name": "stderr",
     "output_type": "stream",
     "text": [
      "Action: emotion: 100%|██████████| 4/4 [00:01<00:00,  2.36it/s]\n",
      "Action: age:   0%|          | 0/4 [00:00<?, ?it/s]    "
     ]
    },
    {
     "name": "stdout",
     "output_type": "stream",
     "text": [
      "25  years old  white   fear   Man\n"
     ]
    },
    {
     "name": "stderr",
     "output_type": "stream",
     "text": [
      "Action: emotion: 100%|██████████| 4/4 [00:01<00:00,  2.37it/s]"
     ]
    },
    {
     "name": "stdout",
     "output_type": "stream",
     "text": [
      "25  years old  white   fear   Man\n"
     ]
    },
    {
     "name": "stderr",
     "output_type": "stream",
     "text": [
      "\n"
     ]
    }
   ],
   "source": [
    "import cv2\n",
    "from progress.bar import Bar\n",
    "from deepface import DeepFace\n",
    "\n",
    "frames_analysis=[]\n",
    "for i in filenames:\n",
    "    print(i)\n",
    "\n",
    "    age=[]\n",
    "    dominant_race=[]\n",
    "    dominant_emotion=[]\n",
    "    gender=[]\n",
    "\n",
    "    cap=cv2.VideoCapture(f\"input_video/{i}\")\n",
    "    length = int(cap.get(cv2.CAP_PROP_FRAME_COUNT))\n",
    "    bar = Bar('Processing Frames', max=length)\n",
    "    for i in range(0, 20):\n",
    "        ret, frame = cap.read()\n",
    "        cv2.imwrite(\"frame/1.jpg\",frame)\n",
    "        obj = DeepFace.analyze(img_path = \"frame/1.jpg\", actions = ['age', 'gender', 'race', 'emotion'],enforce_detection=False)\n",
    "        age.append(obj[\"age\"])\n",
    "        dominant_race.append(obj[\"dominant_race\"])\n",
    "        dominant_emotion.append(obj[\"dominant_emotion\"])\n",
    "        gender.append(obj[\"gender\"])\n",
    "\n",
    "        print(obj[\"age\"],\" years old \",obj[\"dominant_race\"],\" \",obj[\"dominant_emotion\"],\" \", obj[\"gender\"])\n",
    "        bar.next()\n",
    "    bar.finish()\n",
    "    d={\"age\":age,\"dominant_race\":dominant_race,\"dominant_emotion\":dominant_emotion,\"gender\":gender}\n",
    "    frames_analysis.append(d)"
   ]
  },
  {
   "cell_type": "code",
   "execution_count": 12,
   "metadata": {},
   "outputs": [
    {
     "data": {
      "text/html": [
       "<div>\n",
       "<style scoped>\n",
       "    .dataframe tbody tr th:only-of-type {\n",
       "        vertical-align: middle;\n",
       "    }\n",
       "\n",
       "    .dataframe tbody tr th {\n",
       "        vertical-align: top;\n",
       "    }\n",
       "\n",
       "    .dataframe thead th {\n",
       "        text-align: right;\n",
       "    }\n",
       "</style>\n",
       "<table border=\"1\" class=\"dataframe\">\n",
       "  <thead>\n",
       "    <tr style=\"text-align: right;\">\n",
       "      <th></th>\n",
       "      <th>filename</th>\n",
       "      <th>transcribed_audio</th>\n",
       "      <th>word_frequency</th>\n",
       "      <th>frames_analysis</th>\n",
       "    </tr>\n",
       "  </thead>\n",
       "  <tbody>\n",
       "    <tr>\n",
       "      <th>0</th>\n",
       "      <td>1.mp4</td>\n",
       "      <td>are you receive negative feedback from your ma...</td>\n",
       "      <td>[(to, 7), (you, 5), (negative, 5), (feedback, ...</td>\n",
       "      <td>{'age': [25, 25, 24, 25, 24, 24, 26, 27, 28, 2...</td>\n",
       "    </tr>\n",
       "    <tr>\n",
       "      <th>1</th>\n",
       "      <td>2.mp4</td>\n",
       "      <td>power project on the inside community and ask ...</td>\n",
       "      <td>[(and, 8), (to, 5), (the, 4), (feedback, 3), (...</td>\n",
       "      <td>{'age': [25, 25, 25, 25, 25, 25, 25, 25, 25, 2...</td>\n",
       "    </tr>\n",
       "  </tbody>\n",
       "</table>\n",
       "</div>"
      ],
      "text/plain": [
       "  filename                                  transcribed_audio  \\\n",
       "0    1.mp4  are you receive negative feedback from your ma...   \n",
       "1    2.mp4  power project on the inside community and ask ...   \n",
       "\n",
       "                                      word_frequency  \\\n",
       "0  [(to, 7), (you, 5), (negative, 5), (feedback, ...   \n",
       "1  [(and, 8), (to, 5), (the, 4), (feedback, 3), (...   \n",
       "\n",
       "                                     frames_analysis  \n",
       "0  {'age': [25, 25, 24, 25, 24, 24, 26, 27, 28, 2...  \n",
       "1  {'age': [25, 25, 25, 25, 25, 25, 25, 25, 25, 2...  "
      ]
     },
     "execution_count": 12,
     "metadata": {},
     "output_type": "execute_result"
    }
   ],
   "source": [
    "import pandas as pd\n",
    "  \n",
    "# intialise data of lists.\n",
    "data = {'filename':filenames,\n",
    "        'transcribed_audio':transcribed_audio,\n",
    "        'word_frequency':frequency,\n",
    "        'frames_analysis':frames_analysis\n",
    "       }\n",
    "  \n",
    "# Create DataFrame\n",
    "df = pd.DataFrame(data)\n",
    "  \n",
    "# Print the output.\n",
    "df"
   ]
  },
  {
   "cell_type": "code",
   "execution_count": 13,
   "metadata": {},
   "outputs": [],
   "source": [
    "df.to_csv(\"result.csv\",index=False)"
   ]
  },
  {
   "cell_type": "code",
   "execution_count": null,
   "metadata": {},
   "outputs": [],
   "source": []
  }
 ],
 "metadata": {
  "kernelspec": {
   "display_name": "Python 3",
   "language": "python",
   "name": "python3"
  },
  "language_info": {
   "codemirror_mode": {
    "name": "ipython",
    "version": 3
   },
   "file_extension": ".py",
   "mimetype": "text/x-python",
   "name": "python",
   "nbconvert_exporter": "python",
   "pygments_lexer": "ipython3",
   "version": "3.8.5"
  }
 },
 "nbformat": 4,
 "nbformat_minor": 4
}
